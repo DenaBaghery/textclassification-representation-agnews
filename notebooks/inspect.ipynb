{
 "cells": [
  {
   "cell_type": "code",
   "execution_count": 3,
   "id": "0e7d2a4c",
   "metadata": {},
   "outputs": [
    {
     "name": "stdout",
     "output_type": "stream",
     "text": [
      "shape: (120000, 3)\n",
      "columns: ['Class Index', 'Title', 'Description']\n",
      "   Class Index                                                Title                                                                                                                                                                                                             Description\n",
      "0            3    Wall St. Bears Claw Back Into the Black (Reuters)                                                                                                                          Reuters - Short-sellers, Wall Street's dwindling\\band of ultra-cynics, are seeing green again.\n",
      "1            3  Carlyle Looks Toward Commercial Aerospace (Reuters)  Reuters - Private investment firm Carlyle Group,\\which has a reputation for making well-timed and occasionally\\controversial plays in the defense industry, has quietly placed\\its bets on another part of the market.\n",
      "2            3      Oil and Economy Cloud Stocks' Outlook (Reuters)                                Reuters - Soaring crude prices plus worries\\about the economy and the outlook for earnings are expected to\\hang over the stock market next week during the depth of the\\summer doldrums.\n",
      "Title sample type: <class 'str'>\n",
      "Title sample value: Wall St. Bears Claw Back Into the Black (Reuters)\n"
     ]
    }
   ],
   "source": [
    "import pandas as pd\n",
    "p = r\"c:\\Users\\dbaghery\\Documents\\Uni\\Hausarbeit\\textclassification\\data\\raw\\ag.news.csv\"\n",
    "df = pd.read_csv(p, encoding='utf-8')  # falls Fehler: encoding='latin-1'\n",
    "print(\"shape:\", df.shape)\n",
    "print(\"columns:\", df.columns.tolist())\n",
    "print(df.head(3).to_string())\n",
    "print(\"Title sample type:\", type(df.loc[0, 'Title']))\n",
    "print(\"Title sample value:\", df.loc[0, 'Title'])\n",
    "# optional: print type/value for Description if vorhanden"
   ]
  },
  {
   "cell_type": "code",
   "execution_count": 4,
   "id": "e00d5da0",
   "metadata": {},
   "outputs": [
    {
     "name": "stdout",
     "output_type": "stream",
     "text": [
      "Any Title starts with '['?: False\n",
      "Any Description starts with '['?: False\n",
      "Unique labels (Class Index): 4 [3 4 2 1]\n",
      "repr Title[0]: 'Wall St. Bears Claw Back Into the Black (Reuters)'\n"
     ]
    }
   ],
   "source": [
    "# TODO: run in the notebook to check formats\n",
    "import ast\n",
    "sample = df.loc[:9, ['Title','Description']].copy()\n",
    "print(\"Any Title starts with '['?:\", sample['Title'].str.startswith('[').any())\n",
    "print(\"Any Description starts with '['?:\", sample['Description'].str.startswith('[').any())\n",
    "print(\"Unique labels (Class Index):\", df['Class Index'].nunique(), df['Class Index'].unique()[:10])\n",
    "# If you want, show an example value with its raw repr:\n",
    "print(\"repr Title[0]:\", repr(df.loc[0,'Title']))"
   ]
  },
  {
   "cell_type": "code",
   "execution_count": null,
   "id": "b1f4c118",
   "metadata": {},
   "outputs": [],
   "source": []
  }
 ],
 "metadata": {
  "kernelspec": {
   "display_name": "hausarbeit",
   "language": "python",
   "name": "python3"
  },
  "language_info": {
   "codemirror_mode": {
    "name": "ipython",
    "version": 3
   },
   "file_extension": ".py",
   "mimetype": "text/x-python",
   "name": "python",
   "nbconvert_exporter": "python",
   "pygments_lexer": "ipython3",
   "version": "3.13.5"
  }
 },
 "nbformat": 4,
 "nbformat_minor": 5
}
